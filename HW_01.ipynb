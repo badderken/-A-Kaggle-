{
 "cells": [
  {
   "cell_type": "code",
   "execution_count": 1,
   "metadata": {},
   "outputs": [],
   "source": [
    "import numpy as np\n",
    "import pandas as pd\n",
    "import time"
   ]
  },
  {
   "cell_type": "markdown",
   "metadata": {},
   "source": [
    "# Hw01\n",
    "## 作業目標：\n",
    "1. 熟悉 Numpy, Pandas 的操作，並比較兩者的處理速度\n",
    "## 作業重點：\n",
    "1. 使用 Numpy, Pandas 分別計算 “homework.csv” 中每個 feature 的平均值、中位數、最大值、最小值，並比較兩者運算時間\n",
    "2. 利用以下方式篩選離群值(option)：\n",
    "* feature 的平均值組成一個高維向量 Vec\n",
    "* 計算每個 sample 與 Vec 的距離\n",
    "* 計算距離的平均值、標準差，將距離平均值超過三個標準差的點當作離群值刪除\n",
    "* __請將刪除離群值後的 dataframe 取名為 df_after_delete__"
   ]
  },
  {
   "cell_type": "code",
   "execution_count": 2,
   "metadata": {},
   "outputs": [],
   "source": [
    "# 讀取 homework.csv\n",
    "\"\"\" Your Code Here: 讀取 homework.csv\"\"\"\n",
    "df=pd.read_csv('homework.csv')\n"
   ]
  },
  {
   "cell_type": "markdown",
   "metadata": {},
   "source": [
    "## 1. 使用 Numpy, Pandas 分別計算 “homework.csv” 中每個 feature 的平均值、中位數、最大值、最小值，並比較兩者運算時間"
   ]
  },
  {
   "cell_type": "code",
   "execution_count": 13,
   "metadata": {},
   "outputs": [
    {
     "name": "stdout",
     "output_type": "stream",
     "text": [
      "col0     -0.00098244025063799,-0.0020797553254650832,4....\n",
      "col1     -0.0017722463546650867,-0.0018117639919102545,...\n",
      "col2     -6.65403109937557e-05,-0.0050658222217103005,4...\n",
      "col3     0.0012602291981834775,0.003779995883667811,4.0...\n",
      "col4     0.004449591550981554,0.005583304081218151,4.05...\n",
      "                               ...                        \n",
      "col75    0.0035220424257840603,0.0013557855362449902,3....\n",
      "col76    -0.002019303057898512,-0.0031761979137895913,4...\n",
      "col77    -0.0037164386604696953,-0.0071737471359398985,...\n",
      "col78    0.004457802021683012,0.005047174628928058,4.38...\n",
      "col79    0.004139744945271961,0.004556334046404244,4.86...\n",
      "Length: 80, dtype: object\n",
      "Pandas has done in 0.0933 sec.\n",
      "                col0           col1           col2           col3  \\\n",
      "count  100000.000000  100000.000000  100000.000000  100000.000000   \n",
      "mean       -0.000982      -0.001772      -0.000067       0.001260   \n",
      "std         0.997387       0.999677       0.999423       1.000450   \n",
      "min        -4.698802      -4.485786      -4.403587      -4.488550   \n",
      "25%        -0.676371      -0.674310      -0.678171      -0.675814   \n",
      "50%        -0.002080      -0.001812      -0.005066       0.003780   \n",
      "75%         0.673900       0.669970       0.675509       0.672265   \n",
      "max         4.292971       4.340301       4.915044       4.077389   \n",
      "\n",
      "                col4           col5           col6           col7  \\\n",
      "count  100000.000000  100000.000000  100000.000000  100000.000000   \n",
      "mean        0.004450       0.002382      -0.002804      -0.003068   \n",
      "std         1.002278       0.998099       1.002785       0.997109   \n",
      "min        -4.576555      -4.671108      -4.388425      -4.379263   \n",
      "25%        -0.673363      -0.667494      -0.681587      -0.676339   \n",
      "50%         0.005583       0.000566      -0.004926      -0.000537   \n",
      "75%         0.683034       0.680560       0.672093       0.671895   \n",
      "max         4.056038       4.390056       4.060047       4.351157   \n",
      "\n",
      "                col8           col9  ...          col70          col71  \\\n",
      "count  100000.000000  100000.000000  ...  100000.000000  100000.000000   \n",
      "mean       -0.001736      -0.000383  ...       0.001819       0.001489   \n",
      "std         0.999793       1.002520  ...       0.993507       0.995408   \n",
      "min        -4.280279      -4.101829  ...      -4.207474      -4.474170   \n",
      "25%        -0.677416      -0.678124  ...      -0.666864      -0.671852   \n",
      "50%        -0.007138       0.002882  ...       0.002379       0.001827   \n",
      "75%         0.667823       0.673553  ...       0.672958       0.673446   \n",
      "max         4.647597       4.436166  ...       4.270831       4.266420   \n",
      "\n",
      "               col72          col73          col74          col75  \\\n",
      "count  100000.000000  100000.000000  100000.000000  100000.000000   \n",
      "mean       -0.004019      -0.000977       0.003345       0.003522   \n",
      "std         0.999268       0.999840       1.003151       1.000187   \n",
      "min        -4.190348      -3.936072      -4.560416      -4.533724   \n",
      "25%        -0.677088      -0.670269      -0.673437      -0.669786   \n",
      "50%        -0.003030       0.000725       0.002361       0.001356   \n",
      "75%         0.669429       0.674588       0.683595       0.674703   \n",
      "max         4.059832       4.556041       4.221023       3.979760   \n",
      "\n",
      "               col76          col77          col78          col79  \n",
      "count  100000.000000  100000.000000  100000.000000  100000.000000  \n",
      "mean       -0.002019      -0.003716       0.004458       0.004140  \n",
      "std         1.001023       0.997058       1.003886       1.002848  \n",
      "min        -4.123944      -4.597586      -4.159297      -4.491868  \n",
      "25%        -0.678369      -0.675646      -0.672983      -0.673700  \n",
      "50%        -0.003176      -0.007174       0.005047       0.004556  \n",
      "75%         0.672470       0.668894       0.682869       0.680835  \n",
      "max         4.348522       4.159195       4.382344       4.869825  \n",
      "\n",
      "[8 rows x 80 columns]\n",
      "Pandas has done in 0.2792 sec.\n"
     ]
    }
   ],
   "source": [
    "# -------------- Numpy --------------\n",
    "arr = np.array(df, dtype = 'float')\n",
    "\n",
    "start = time.time()\n",
    "\"\"\" Your Code Here: 用 Numpy 計算 “homework.csv” 中每個 feature 的平均值、中位數、最大值、最小值，並比較兩者運算時間\"\"\"\n",
    "print(df.apply(lambda x:f'{np.mean(x)},{np.median(x)},{np.max(x)},{np.min(x)}'))\n",
    "end = time.time()\n",
    "print(f'Pandas has done in {(end - start):.4f} sec.')\n",
    "\n",
    "# -------------- Pandas --------------\n",
    "start = time.time()\n",
    "\"\"\" Your Code Here: 用 Pandas 計算 “homework.csv” 中每個 feature 的平均值、中位數、最大值、最小值，並比較兩者運算時間\"\"\"\n",
    "print(df.describe())\n",
    "end = time.time()\n",
    "print(f'Pandas has done in {(end - start):.4f} sec.')"
   ]
  },
  {
   "cell_type": "markdown",
   "metadata": {},
   "source": [
    "## 2. 利用以下方式篩選離群值(option)：\n",
    "* feature 的平均值組成一個高維向量 Vec\n",
    "* 計算每個 sample 與 Vec 的距離\n",
    "* 計算距離的平均值、標準差，將距離平均值超過三個標準差的點當作離群值刪除\n",
    "* __請將刪除離群值後的 dataframe 取名為 df_after_delete__"
   ]
  },
  {
   "cell_type": "code",
   "execution_count": 88,
   "metadata": {},
   "outputs": [
    {
     "name": "stdout",
     "output_type": "stream",
     "text": [
      "col0     0.796353\n",
      "col1     0.797596\n",
      "col2     0.798444\n",
      "col3     0.798102\n",
      "col4     0.800009\n",
      "           ...   \n",
      "col75    0.797304\n",
      "col76    0.798383\n",
      "col77    0.795902\n",
      "col78    0.801038\n",
      "col79    0.800717\n",
      "Length: 80, dtype: float64\n",
      "col0     0.600498\n",
      "col1     0.602651\n",
      "col2     0.601106\n",
      "col3     0.603263\n",
      "col4     0.603771\n",
      "           ...   \n",
      "col75    0.603883\n",
      "col76    0.603842\n",
      "col77    0.600547\n",
      "col78    0.605078\n",
      "col79    0.603780\n",
      "Length: 80, dtype: float64\n"
     ]
    }
   ],
   "source": [
    "# 計算各個 sample 與 Vec 之距離\n",
    "\"\"\" Your Code Here: 計算各個 sample 與 Vec 之距離\"\"\"\n",
    "Vec=df.mean()\n",
    "distance=df-Vec\n",
    "# 計算 distance 的 mean, std, 並篩選離群值\n",
    "\"\"\" Your Code Here: 計算 distance 的 mean, std, 並篩選離群值\"\"\"\n",
    "print(abs(distance).mean())\n",
    "print(abs(distance).std())\n",
    "#print(abs(distance).std())\n",
    "# 刪除離群值\n",
    "\"\"\" Your Code Here: 刪除離群值\"\"\"\n",
    "df_outlier=abs(distance.std())*3\n",
    "df_after_delete__=df[abs(df)<=df_outlier].dropna()"
   ]
  },
  {
   "cell_type": "markdown",
   "metadata": {},
   "source": [
    "## --驗證答案--"
   ]
  },
  {
   "cell_type": "code",
   "execution_count": 89,
   "metadata": {},
   "outputs": [
    {
     "ename": "FileNotFoundError",
     "evalue": "[Errno 2] No such file or directory: './data/ans.csv'",
     "output_type": "error",
     "traceback": [
      "\u001b[1;31m---------------------------------------------------------------------------\u001b[0m",
      "\u001b[1;31mFileNotFoundError\u001b[0m                         Traceback (most recent call last)",
      "\u001b[1;32m<ipython-input-89-aa65c6781962>\u001b[0m in \u001b[0;36m<module>\u001b[1;34m\u001b[0m\n\u001b[1;32m----> 1\u001b[1;33m \u001b[0mans\u001b[0m \u001b[1;33m=\u001b[0m \u001b[0mpd\u001b[0m\u001b[1;33m.\u001b[0m\u001b[0mread_csv\u001b[0m\u001b[1;33m(\u001b[0m\u001b[1;34m'./data/ans.csv'\u001b[0m\u001b[1;33m)\u001b[0m\u001b[1;33m\u001b[0m\u001b[1;33m\u001b[0m\u001b[0m\n\u001b[0m\u001b[0;32m      2\u001b[0m \u001b[0mjudge\u001b[0m \u001b[1;33m=\u001b[0m \u001b[1;32mnot\u001b[0m \u001b[1;33m(\u001b[0m\u001b[1;32mFalse\u001b[0m \u001b[1;32min\u001b[0m \u001b[1;33m(\u001b[0m\u001b[0mans\u001b[0m \u001b[1;33m==\u001b[0m \u001b[0mdf_after_delete\u001b[0m\u001b[1;33m)\u001b[0m\u001b[1;33m)\u001b[0m\u001b[1;33m\u001b[0m\u001b[1;33m\u001b[0m\u001b[0m\n\u001b[0;32m      3\u001b[0m \u001b[0mprint\u001b[0m\u001b[1;33m(\u001b[0m\u001b[1;34mf'Your answer is {judge}.'\u001b[0m\u001b[1;33m)\u001b[0m\u001b[1;33m\u001b[0m\u001b[1;33m\u001b[0m\u001b[0m\n",
      "\u001b[1;32m~\\anaconda3\\lib\\site-packages\\pandas\\io\\parsers.py\u001b[0m in \u001b[0;36mread_csv\u001b[1;34m(filepath_or_buffer, sep, delimiter, header, names, index_col, usecols, squeeze, prefix, mangle_dupe_cols, dtype, engine, converters, true_values, false_values, skipinitialspace, skiprows, skipfooter, nrows, na_values, keep_default_na, na_filter, verbose, skip_blank_lines, parse_dates, infer_datetime_format, keep_date_col, date_parser, dayfirst, cache_dates, iterator, chunksize, compression, thousands, decimal, lineterminator, quotechar, quoting, doublequote, escapechar, comment, encoding, dialect, error_bad_lines, warn_bad_lines, delim_whitespace, low_memory, memory_map, float_precision)\u001b[0m\n\u001b[0;32m    684\u001b[0m     )\n\u001b[0;32m    685\u001b[0m \u001b[1;33m\u001b[0m\u001b[0m\n\u001b[1;32m--> 686\u001b[1;33m     \u001b[1;32mreturn\u001b[0m \u001b[0m_read\u001b[0m\u001b[1;33m(\u001b[0m\u001b[0mfilepath_or_buffer\u001b[0m\u001b[1;33m,\u001b[0m \u001b[0mkwds\u001b[0m\u001b[1;33m)\u001b[0m\u001b[1;33m\u001b[0m\u001b[1;33m\u001b[0m\u001b[0m\n\u001b[0m\u001b[0;32m    687\u001b[0m \u001b[1;33m\u001b[0m\u001b[0m\n\u001b[0;32m    688\u001b[0m \u001b[1;33m\u001b[0m\u001b[0m\n",
      "\u001b[1;32m~\\anaconda3\\lib\\site-packages\\pandas\\io\\parsers.py\u001b[0m in \u001b[0;36m_read\u001b[1;34m(filepath_or_buffer, kwds)\u001b[0m\n\u001b[0;32m    450\u001b[0m \u001b[1;33m\u001b[0m\u001b[0m\n\u001b[0;32m    451\u001b[0m     \u001b[1;31m# Create the parser.\u001b[0m\u001b[1;33m\u001b[0m\u001b[1;33m\u001b[0m\u001b[1;33m\u001b[0m\u001b[0m\n\u001b[1;32m--> 452\u001b[1;33m     \u001b[0mparser\u001b[0m \u001b[1;33m=\u001b[0m \u001b[0mTextFileReader\u001b[0m\u001b[1;33m(\u001b[0m\u001b[0mfp_or_buf\u001b[0m\u001b[1;33m,\u001b[0m \u001b[1;33m**\u001b[0m\u001b[0mkwds\u001b[0m\u001b[1;33m)\u001b[0m\u001b[1;33m\u001b[0m\u001b[1;33m\u001b[0m\u001b[0m\n\u001b[0m\u001b[0;32m    453\u001b[0m \u001b[1;33m\u001b[0m\u001b[0m\n\u001b[0;32m    454\u001b[0m     \u001b[1;32mif\u001b[0m \u001b[0mchunksize\u001b[0m \u001b[1;32mor\u001b[0m \u001b[0miterator\u001b[0m\u001b[1;33m:\u001b[0m\u001b[1;33m\u001b[0m\u001b[1;33m\u001b[0m\u001b[0m\n",
      "\u001b[1;32m~\\anaconda3\\lib\\site-packages\\pandas\\io\\parsers.py\u001b[0m in \u001b[0;36m__init__\u001b[1;34m(self, f, engine, **kwds)\u001b[0m\n\u001b[0;32m    944\u001b[0m             \u001b[0mself\u001b[0m\u001b[1;33m.\u001b[0m\u001b[0moptions\u001b[0m\u001b[1;33m[\u001b[0m\u001b[1;34m\"has_index_names\"\u001b[0m\u001b[1;33m]\u001b[0m \u001b[1;33m=\u001b[0m \u001b[0mkwds\u001b[0m\u001b[1;33m[\u001b[0m\u001b[1;34m\"has_index_names\"\u001b[0m\u001b[1;33m]\u001b[0m\u001b[1;33m\u001b[0m\u001b[1;33m\u001b[0m\u001b[0m\n\u001b[0;32m    945\u001b[0m \u001b[1;33m\u001b[0m\u001b[0m\n\u001b[1;32m--> 946\u001b[1;33m         \u001b[0mself\u001b[0m\u001b[1;33m.\u001b[0m\u001b[0m_make_engine\u001b[0m\u001b[1;33m(\u001b[0m\u001b[0mself\u001b[0m\u001b[1;33m.\u001b[0m\u001b[0mengine\u001b[0m\u001b[1;33m)\u001b[0m\u001b[1;33m\u001b[0m\u001b[1;33m\u001b[0m\u001b[0m\n\u001b[0m\u001b[0;32m    947\u001b[0m \u001b[1;33m\u001b[0m\u001b[0m\n\u001b[0;32m    948\u001b[0m     \u001b[1;32mdef\u001b[0m \u001b[0mclose\u001b[0m\u001b[1;33m(\u001b[0m\u001b[0mself\u001b[0m\u001b[1;33m)\u001b[0m\u001b[1;33m:\u001b[0m\u001b[1;33m\u001b[0m\u001b[1;33m\u001b[0m\u001b[0m\n",
      "\u001b[1;32m~\\anaconda3\\lib\\site-packages\\pandas\\io\\parsers.py\u001b[0m in \u001b[0;36m_make_engine\u001b[1;34m(self, engine)\u001b[0m\n\u001b[0;32m   1176\u001b[0m     \u001b[1;32mdef\u001b[0m \u001b[0m_make_engine\u001b[0m\u001b[1;33m(\u001b[0m\u001b[0mself\u001b[0m\u001b[1;33m,\u001b[0m \u001b[0mengine\u001b[0m\u001b[1;33m=\u001b[0m\u001b[1;34m\"c\"\u001b[0m\u001b[1;33m)\u001b[0m\u001b[1;33m:\u001b[0m\u001b[1;33m\u001b[0m\u001b[1;33m\u001b[0m\u001b[0m\n\u001b[0;32m   1177\u001b[0m         \u001b[1;32mif\u001b[0m \u001b[0mengine\u001b[0m \u001b[1;33m==\u001b[0m \u001b[1;34m\"c\"\u001b[0m\u001b[1;33m:\u001b[0m\u001b[1;33m\u001b[0m\u001b[1;33m\u001b[0m\u001b[0m\n\u001b[1;32m-> 1178\u001b[1;33m             \u001b[0mself\u001b[0m\u001b[1;33m.\u001b[0m\u001b[0m_engine\u001b[0m \u001b[1;33m=\u001b[0m \u001b[0mCParserWrapper\u001b[0m\u001b[1;33m(\u001b[0m\u001b[0mself\u001b[0m\u001b[1;33m.\u001b[0m\u001b[0mf\u001b[0m\u001b[1;33m,\u001b[0m \u001b[1;33m**\u001b[0m\u001b[0mself\u001b[0m\u001b[1;33m.\u001b[0m\u001b[0moptions\u001b[0m\u001b[1;33m)\u001b[0m\u001b[1;33m\u001b[0m\u001b[1;33m\u001b[0m\u001b[0m\n\u001b[0m\u001b[0;32m   1179\u001b[0m         \u001b[1;32melse\u001b[0m\u001b[1;33m:\u001b[0m\u001b[1;33m\u001b[0m\u001b[1;33m\u001b[0m\u001b[0m\n\u001b[0;32m   1180\u001b[0m             \u001b[1;32mif\u001b[0m \u001b[0mengine\u001b[0m \u001b[1;33m==\u001b[0m \u001b[1;34m\"python\"\u001b[0m\u001b[1;33m:\u001b[0m\u001b[1;33m\u001b[0m\u001b[1;33m\u001b[0m\u001b[0m\n",
      "\u001b[1;32m~\\anaconda3\\lib\\site-packages\\pandas\\io\\parsers.py\u001b[0m in \u001b[0;36m__init__\u001b[1;34m(self, src, **kwds)\u001b[0m\n\u001b[0;32m   2006\u001b[0m         \u001b[0mkwds\u001b[0m\u001b[1;33m[\u001b[0m\u001b[1;34m\"usecols\"\u001b[0m\u001b[1;33m]\u001b[0m \u001b[1;33m=\u001b[0m \u001b[0mself\u001b[0m\u001b[1;33m.\u001b[0m\u001b[0musecols\u001b[0m\u001b[1;33m\u001b[0m\u001b[1;33m\u001b[0m\u001b[0m\n\u001b[0;32m   2007\u001b[0m \u001b[1;33m\u001b[0m\u001b[0m\n\u001b[1;32m-> 2008\u001b[1;33m         \u001b[0mself\u001b[0m\u001b[1;33m.\u001b[0m\u001b[0m_reader\u001b[0m \u001b[1;33m=\u001b[0m \u001b[0mparsers\u001b[0m\u001b[1;33m.\u001b[0m\u001b[0mTextReader\u001b[0m\u001b[1;33m(\u001b[0m\u001b[0msrc\u001b[0m\u001b[1;33m,\u001b[0m \u001b[1;33m**\u001b[0m\u001b[0mkwds\u001b[0m\u001b[1;33m)\u001b[0m\u001b[1;33m\u001b[0m\u001b[1;33m\u001b[0m\u001b[0m\n\u001b[0m\u001b[0;32m   2009\u001b[0m         \u001b[0mself\u001b[0m\u001b[1;33m.\u001b[0m\u001b[0munnamed_cols\u001b[0m \u001b[1;33m=\u001b[0m \u001b[0mself\u001b[0m\u001b[1;33m.\u001b[0m\u001b[0m_reader\u001b[0m\u001b[1;33m.\u001b[0m\u001b[0munnamed_cols\u001b[0m\u001b[1;33m\u001b[0m\u001b[1;33m\u001b[0m\u001b[0m\n\u001b[0;32m   2010\u001b[0m \u001b[1;33m\u001b[0m\u001b[0m\n",
      "\u001b[1;32mpandas\\_libs\\parsers.pyx\u001b[0m in \u001b[0;36mpandas._libs.parsers.TextReader.__cinit__\u001b[1;34m()\u001b[0m\n",
      "\u001b[1;32mpandas\\_libs\\parsers.pyx\u001b[0m in \u001b[0;36mpandas._libs.parsers.TextReader._setup_parser_source\u001b[1;34m()\u001b[0m\n",
      "\u001b[1;31mFileNotFoundError\u001b[0m: [Errno 2] No such file or directory: './data/ans.csv'"
     ]
    }
   ],
   "source": [
    "ans = pd.read_csv('./data/ans.csv')\n",
    "judge = not (False in (ans == df_after_delete))\n",
    "print(f'Your answer is {judge}.')"
   ]
  },
  {
   "cell_type": "code",
   "execution_count": null,
   "metadata": {},
   "outputs": [],
   "source": []
  }
 ],
 "metadata": {
  "kernelspec": {
   "display_name": "Python 3",
   "language": "python",
   "name": "python3"
  },
  "language_info": {
   "codemirror_mode": {
    "name": "ipython",
    "version": 3
   },
   "file_extension": ".py",
   "mimetype": "text/x-python",
   "name": "python",
   "nbconvert_exporter": "python",
   "pygments_lexer": "ipython3",
   "version": "3.8.5"
  },
  "metadata": {
   "interpreter": {
    "hash": "aee8b7b246df8f9039afb4144a1f6fd8d2ca17a180786b69acc140d282b71a49"
   }
  }
 },
 "nbformat": 4,
 "nbformat_minor": 5
}
